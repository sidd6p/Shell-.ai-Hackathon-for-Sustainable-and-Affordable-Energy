{
 "cells": [
  {
   "cell_type": "markdown",
   "id": "7ce389db",
   "metadata": {
    "papermill": {
     "duration": 0.005871,
     "end_time": "2023-07-23T20:24:14.640691",
     "exception": false,
     "start_time": "2023-07-23T20:24:14.634820",
     "status": "completed"
    },
    "tags": []
   },
   "source": [
    "## Step-by-Step Solution\n",
    "\n",
    "- **Step 0: Import Required Libraries**\n",
    "  - [X] Import the necessary libraries for data processing, forecasting, optimization, and visualization.\n",
    "\n",
    "- **Step 1: Data Preprocessing**\n",
    "  - [X] Load the provided datasets: `Biomass_History.csv` and `Distance_Matrix.csv`.\n",
    "  - [X] Extract information on biomass availability, distance matrix, and other parameters.\n",
    "  - [X] Ensure all values are in the correct format and dimensionless.\n",
    "\n",
    "- **Step 2: Biomass Forecasting for 2018 and 2019**\n",
    "  - [X] Apply forecasting techniques to estimate biomass availability for the years 2018.\n",
    "  - [X] Create a new datasets, `Biomass_Forecast_2018.csv`, containing forecasted biomass values for each harvesting site.\n",
    "  - [X] Save the dataset `Biomass_Forecast_2018.csv`\n",
    "\n",
    "\n",
    "- **Step 3: Define Variables and Constants**\n",
    "  - [ ] Define the following variables:\n",
    "    - `Biorefinery`: Binary variable indicating whether a grid block is a biorefinery location.\n",
    "    - `Depot`: Binary variable indicating whether a grid block is a preprocessing depot location.\n",
    "    - `Biomass_Demand_Supply[i, j]`: Amount of biomass transported from harvesting site 'i' to depot 'j'.\n",
    "    - `Pellet_Demand_Supply[j, k]`: Amount of pellets transported from depot 'j' to biorefinery 'k'.\n",
    "  - [ ] Set constants:\n",
    "    - `a`, `b`, `c`: Constants for cost computation.\n",
    "    - `Max_Depots`: Maximum number of preprocessing depots (<= 25).\n",
    "    - `Max_Refineries`: Maximum number of biorefineries (<= 5).\n",
    "    - `Max_Depot_Capacity`: Maximum yearly processing capacity of a depot (20,000).\n",
    "    - `Max_Refinery_Capacity`: Maximum yearly processing capacity of a biorefinery (100,000).\n",
    "\n",
    "- **Step 4: Formulate the Objective Function**\n",
    "  - [ ] Define the objective function that minimizes the overall cost of the supply chain.\n",
    "  - [ ] The objective function should consider transportation costs, biomass forecast mismatch costs, and underutilization costs.\n",
    "\n",
    "- **Step 5: Formulate the Constraints**\n",
    "  - [ ] Create constraints to ensure that all quantities are greater than or equal to zero.\n",
    "  - [ ] Enforce that the amount of biomass procured does not exceed the forecasted biomass at each harvesting site.\n",
    "  - [ ] Limit the total biomass reaching each preprocessing depot to its yearly processing capacity.\n",
    "  - [ ] Limit the total pellets reaching each biorefinery to its yearly processing capacity.\n",
    "  - [ ] Enforce the number of depots to be less than or equal to `Max_Depots`.\n",
    "  - [ ] Enforce the number of refineries to be less than or equal to `Max_Refineries`.\n",
    "  - [ ] Ensure that at least 80% of the total forecasted biomass is processed by the refineries each year.\n",
    "  - [ ] Balance the total biomass entering and exiting each preprocessing depot (within a tolerance limit of 1e-03).\n",
    "\n",
    "- **Step 6: Optimization**\n",
    "  - [ ] Utilize appropriate optimization techniques (e.g., mathematical programming, linear programming) to solve the formulated problem.\n",
    "  - [ ] Find the optimal locations for preprocessing depots and biorefineries.\n",
    "  - [ ] Allocate biomass quantities and pellets to minimize the objective function while satisfying all constraints.\n",
    "\n",
    "- **Step 7: Post-processing and Visualization**\n",
    "  - [ ] Analyze the optimized supply chain to visualize the optimal locations of depots and refineries on the map of Gujarat.\n",
    "  - [ ] Display the transportation routes for biomass and pellets between harvesting sites, depots, and refineries.\n",
    "  - [ ] Summarize the total cost and other relevant information about the optimized supply chain.\n",
    "\n",
    "- **Step 8: Output Submission**\n",
    "  - [ ] Generate the final output file (`solution.csv`) in the required format with columns for year, data type, source index, destination index, and corresponding values.\n",
    "  - [ ] Submit the solution file on the HackerEarth portal for evaluation.\n"
   ]
  },
  {
   "cell_type": "markdown",
   "id": "44cbbead",
   "metadata": {
    "_cell_guid": "b1076dfc-b9ad-4769-8c92-a6c4dae69d19",
    "_uuid": "8f2839f25d086af736a60e9eeb907d3b93b6e0e5",
    "execution": {
     "iopub.execute_input": "2023-07-23T16:43:50.056592Z",
     "iopub.status.busy": "2023-07-23T16:43:50.056157Z",
     "iopub.status.idle": "2023-07-23T16:43:50.062630Z",
     "shell.execute_reply": "2023-07-23T16:43:50.061437Z",
     "shell.execute_reply.started": "2023-07-23T16:43:50.056560Z"
    },
    "papermill": {
     "duration": 0.004845,
     "end_time": "2023-07-23T20:24:14.651068",
     "exception": false,
     "start_time": "2023-07-23T20:24:14.646223",
     "status": "completed"
    },
    "tags": []
   },
   "source": [
    "# Step 0: Import Required Libraries"
   ]
  },
  {
   "cell_type": "code",
   "execution_count": 1,
   "id": "4faba8e0",
   "metadata": {
    "execution": {
     "iopub.execute_input": "2023-07-23T20:24:14.663601Z",
     "iopub.status.busy": "2023-07-23T20:24:14.663055Z",
     "iopub.status.idle": "2023-07-23T20:24:27.517072Z",
     "shell.execute_reply": "2023-07-23T20:24:27.515373Z"
    },
    "papermill": {
     "duration": 12.864036,
     "end_time": "2023-07-23T20:24:27.520354",
     "exception": false,
     "start_time": "2023-07-23T20:24:14.656318",
     "status": "completed"
    },
    "tags": []
   },
   "outputs": [
    {
     "name": "stdout",
     "output_type": "stream",
     "text": [
      "Requirement already satisfied: pandas in /opt/conda/lib/python3.10/site-packages (1.5.3)\r\n",
      "Requirement already satisfied: numpy in /opt/conda/lib/python3.10/site-packages (1.23.5)\r\n",
      "Requirement already satisfied: matplotlib in /opt/conda/lib/python3.10/site-packages (3.7.1)\r\n",
      "Requirement already satisfied: python-dateutil>=2.8.1 in /opt/conda/lib/python3.10/site-packages (from pandas) (2.8.2)\r\n",
      "Requirement already satisfied: pytz>=2020.1 in /opt/conda/lib/python3.10/site-packages (from pandas) (2023.3)\r\n",
      "Requirement already satisfied: contourpy>=1.0.1 in /opt/conda/lib/python3.10/site-packages (from matplotlib) (1.1.0)\r\n",
      "Requirement already satisfied: cycler>=0.10 in /opt/conda/lib/python3.10/site-packages (from matplotlib) (0.11.0)\r\n",
      "Requirement already satisfied: fonttools>=4.22.0 in /opt/conda/lib/python3.10/site-packages (from matplotlib) (4.40.0)\r\n",
      "Requirement already satisfied: kiwisolver>=1.0.1 in /opt/conda/lib/python3.10/site-packages (from matplotlib) (1.4.4)\r\n",
      "Requirement already satisfied: packaging>=20.0 in /opt/conda/lib/python3.10/site-packages (from matplotlib) (21.3)\r\n",
      "Requirement already satisfied: pillow>=6.2.0 in /opt/conda/lib/python3.10/site-packages (from matplotlib) (9.5.0)\r\n",
      "Requirement already satisfied: pyparsing>=2.3.1 in /opt/conda/lib/python3.10/site-packages (from matplotlib) (3.0.9)\r\n",
      "Requirement already satisfied: six>=1.5 in /opt/conda/lib/python3.10/site-packages (from python-dateutil>=2.8.1->pandas) (1.16.0)\r\n"
     ]
    }
   ],
   "source": [
    "!pip install pandas numpy matplotlib"
   ]
  },
  {
   "cell_type": "code",
   "execution_count": 2,
   "id": "9b45885f",
   "metadata": {
    "execution": {
     "iopub.execute_input": "2023-07-23T20:24:27.534561Z",
     "iopub.status.busy": "2023-07-23T20:24:27.534078Z",
     "iopub.status.idle": "2023-07-23T20:24:29.266279Z",
     "shell.execute_reply": "2023-07-23T20:24:29.265169Z"
    },
    "papermill": {
     "duration": 1.742707,
     "end_time": "2023-07-23T20:24:29.269074",
     "exception": false,
     "start_time": "2023-07-23T20:24:27.526367",
     "status": "completed"
    },
    "tags": []
   },
   "outputs": [
    {
     "name": "stderr",
     "output_type": "stream",
     "text": [
      "/opt/conda/lib/python3.10/site-packages/scipy/__init__.py:146: UserWarning: A NumPy version >=1.16.5 and <1.23.0 is required for this version of SciPy (detected version 1.23.5\n",
      "  warnings.warn(f\"A NumPy version >={np_minversion} and <{np_maxversion}\"\n"
     ]
    }
   ],
   "source": [
    "import pandas as pd\n",
    "import numpy as np\n",
    "import warnings\n",
    "import matplotlib.pyplot as plt\n",
    "from statsmodels.tsa.arima.model import ARIMA"
   ]
  },
  {
   "cell_type": "code",
   "execution_count": 3,
   "id": "389057f3",
   "metadata": {
    "execution": {
     "iopub.execute_input": "2023-07-23T20:24:29.282181Z",
     "iopub.status.busy": "2023-07-23T20:24:29.281787Z",
     "iopub.status.idle": "2023-07-23T20:24:29.286948Z",
     "shell.execute_reply": "2023-07-23T20:24:29.285606Z"
    },
    "papermill": {
     "duration": 0.014513,
     "end_time": "2023-07-23T20:24:29.289168",
     "exception": false,
     "start_time": "2023-07-23T20:24:29.274655",
     "status": "completed"
    },
    "tags": []
   },
   "outputs": [],
   "source": [
    "warnings.filterwarnings(\"ignore\")"
   ]
  },
  {
   "cell_type": "markdown",
   "id": "b998dbd3",
   "metadata": {
    "papermill": {
     "duration": 0.005249,
     "end_time": "2023-07-23T20:24:29.299856",
     "exception": false,
     "start_time": "2023-07-23T20:24:29.294607",
     "status": "completed"
    },
    "tags": []
   },
   "source": [
    "#  Step 1: Data Preparation and Exploration\n"
   ]
  },
  {
   "cell_type": "code",
   "execution_count": 4,
   "id": "a503211b",
   "metadata": {
    "execution": {
     "iopub.execute_input": "2023-07-23T20:24:29.312668Z",
     "iopub.status.busy": "2023-07-23T20:24:29.312277Z",
     "iopub.status.idle": "2023-07-23T20:24:31.296732Z",
     "shell.execute_reply": "2023-07-23T20:24:31.295509Z"
    },
    "papermill": {
     "duration": 1.99428,
     "end_time": "2023-07-23T20:24:31.299683",
     "exception": false,
     "start_time": "2023-07-23T20:24:29.305403",
     "status": "completed"
    },
    "tags": []
   },
   "outputs": [],
   "source": [
    "# Load the datasets\n",
    "biomass_history_df = pd.read_csv('/kaggle/input/biomasshistory/dataset/Biomass_History.csv')\n",
    "distance_matrix_df = pd.read_csv('/kaggle/input/biomasshistory/dataset/Distance_Matrix.csv')"
   ]
  },
  {
   "cell_type": "code",
   "execution_count": 5,
   "id": "9bf1071f",
   "metadata": {
    "execution": {
     "iopub.execute_input": "2023-07-23T20:24:31.315206Z",
     "iopub.status.busy": "2023-07-23T20:24:31.314813Z",
     "iopub.status.idle": "2023-07-23T20:24:31.341039Z",
     "shell.execute_reply": "2023-07-23T20:24:31.339628Z"
    },
    "papermill": {
     "duration": 0.038253,
     "end_time": "2023-07-23T20:24:31.343964",
     "exception": false,
     "start_time": "2023-07-23T20:24:31.305711",
     "status": "completed"
    },
    "tags": []
   },
   "outputs": [
    {
     "name": "stdout",
     "output_type": "stream",
     "text": [
      "\n",
      "Missing Values in Biomass History Data:\n",
      "Index        0\n",
      "Latitude     0\n",
      "Longitude    0\n",
      "2010         0\n",
      "2011         0\n",
      "2012         0\n",
      "2013         0\n",
      "2014         0\n",
      "2015         0\n",
      "2016         0\n",
      "2017         0\n",
      "dtype: int64\n",
      "\n",
      "Missing Values in Distance Matrix Data:\n",
      "Unnamed: 0    0\n",
      "0             0\n",
      "1             0\n",
      "2             0\n",
      "3             0\n",
      "             ..\n",
      "2413          0\n",
      "2414          0\n",
      "2415          0\n",
      "2416          0\n",
      "2417          0\n",
      "Length: 2419, dtype: int64\n"
     ]
    }
   ],
   "source": [
    "# Check for any missing values in the datasets\n",
    "print(\"\\nMissing Values in Biomass History Data:\")\n",
    "print(biomass_history_df.isnull().sum())\n",
    "\n",
    "print(\"\\nMissing Values in Distance Matrix Data:\")\n",
    "print(distance_matrix_df.isnull().sum())"
   ]
  },
  {
   "cell_type": "code",
   "execution_count": 6,
   "id": "6a4ce5e7",
   "metadata": {
    "execution": {
     "iopub.execute_input": "2023-07-23T20:24:31.357657Z",
     "iopub.status.busy": "2023-07-23T20:24:31.357231Z",
     "iopub.status.idle": "2023-07-23T20:24:31.389314Z",
     "shell.execute_reply": "2023-07-23T20:24:31.388190Z"
    },
    "papermill": {
     "duration": 0.042513,
     "end_time": "2023-07-23T20:24:31.392459",
     "exception": false,
     "start_time": "2023-07-23T20:24:31.349946",
     "status": "completed"
    },
    "tags": []
   },
   "outputs": [
    {
     "name": "stdout",
     "output_type": "stream",
     "text": [
      "Biomass History Data:\n",
      "   Index  Latitude  Longitude       2010       2011       2012       2013  \\\n",
      "0      0  24.66818   71.33144   8.475744   8.868568   9.202181   6.023070   \n",
      "1      1  24.66818   71.41106  24.029778  28.551348  25.866415  21.634459   \n",
      "2      2  24.66818   71.49069  44.831635  66.111168  56.982258  53.003735   \n",
      "3      3  24.66818   71.57031  59.974419  80.821304  78.956543  63.160561   \n",
      "4      4  24.66818   71.64994  14.653370  19.327524  21.928144  17.899586   \n",
      "\n",
      "        2014       2015       2016        2017  \n",
      "0  10.788374   6.647325   7.387925    5.180296  \n",
      "1  34.419411  27.361908  40.431847   42.126945  \n",
      "2  70.917908  42.517117  59.181629   73.203232  \n",
      "3  93.513924  70.203171  74.536720  101.067352  \n",
      "4  19.534035  19.165791  16.531315   26.086885  \n",
      "\n",
      "Distance Matrix Data:\n",
      "   Unnamed: 0        0        1        2        3        4        5        6  \\\n",
      "0           0   0.0000  11.3769  20.4557  38.1227  45.3810  54.9915  78.6108   \n",
      "1           1  11.3769   0.0000   9.0788  28.9141  36.1724  45.7829  69.4022   \n",
      "2           2  20.4557   9.0788   0.0000  22.3791  29.6374  39.2478  62.8671   \n",
      "3           3  38.1227  28.9141  22.3791   0.0000  11.8343  23.5413  41.8396   \n",
      "4           4  45.3810  36.1724  29.6374  11.8343   0.0000  11.7070  24.3986   \n",
      "\n",
      "          7         8  ...      2408      2409      2410      2411      2412  \\\n",
      "0  118.6750  102.6639  ...  683.8771  687.6310  697.3246  669.3962  667.6788   \n",
      "1   78.2329   93.4553  ...  681.6295  685.3833  695.0769  667.1485  665.4311   \n",
      "2   71.6979   86.9203  ...  682.2323  685.9861  695.6796  667.7513  666.0339   \n",
      "3   50.6703   65.8927  ...  681.4226  685.1765  694.8701  666.9417  665.2243   \n",
      "4   33.2293   53.9901  ...  663.9816  667.7355  677.4291  649.5007  647.7833   \n",
      "\n",
      "       2413      2414      2415      2416      2417  \n",
      "0  665.5775  662.0291  665.9655  673.2073  681.4235  \n",
      "1  663.3298  659.7815  663.7178  670.9596  679.1758  \n",
      "2  663.9326  660.3843  664.3206  671.5623  679.7786  \n",
      "3  663.1230  659.5746  663.5110  670.7528  678.9690  \n",
      "4  645.6820  642.1336  646.0700  653.3118  661.5280  \n",
      "\n",
      "[5 rows x 2419 columns]\n"
     ]
    }
   ],
   "source": [
    "# Display the first few rows of each dataset to inspect the data\n",
    "print(\"Biomass History Data:\")\n",
    "print(biomass_history_df.head())\n",
    "\n",
    "print(\"\\nDistance Matrix Data:\")\n",
    "print(distance_matrix_df.head())"
   ]
  },
  {
   "cell_type": "code",
   "execution_count": 7,
   "id": "24e21eeb",
   "metadata": {
    "execution": {
     "iopub.execute_input": "2023-07-23T20:24:31.406273Z",
     "iopub.status.busy": "2023-07-23T20:24:31.405893Z",
     "iopub.status.idle": "2023-07-23T20:24:31.508461Z",
     "shell.execute_reply": "2023-07-23T20:24:31.506761Z"
    },
    "papermill": {
     "duration": 0.112932,
     "end_time": "2023-07-23T20:24:31.511610",
     "exception": false,
     "start_time": "2023-07-23T20:24:31.398678",
     "status": "completed"
    },
    "tags": []
   },
   "outputs": [
    {
     "name": "stdout",
     "output_type": "stream",
     "text": [
      "Biomass History Info:\n",
      "<class 'pandas.core.frame.DataFrame'>\n",
      "RangeIndex: 2418 entries, 0 to 2417\n",
      "Data columns (total 11 columns):\n",
      " #   Column     Non-Null Count  Dtype  \n",
      "---  ------     --------------  -----  \n",
      " 0   Index      2418 non-null   int64  \n",
      " 1   Latitude   2418 non-null   float64\n",
      " 2   Longitude  2418 non-null   float64\n",
      " 3   2010       2418 non-null   float64\n",
      " 4   2011       2418 non-null   float64\n",
      " 5   2012       2418 non-null   float64\n",
      " 6   2013       2418 non-null   float64\n",
      " 7   2014       2418 non-null   float64\n",
      " 8   2015       2418 non-null   float64\n",
      " 9   2016       2418 non-null   float64\n",
      " 10  2017       2418 non-null   float64\n",
      "dtypes: float64(10), int64(1)\n",
      "memory usage: 207.9 KB\n",
      "None\n",
      "\n",
      "Distance Matrix Info:\n",
      "<class 'pandas.core.frame.DataFrame'>\n",
      "RangeIndex: 2418 entries, 0 to 2417\n",
      "Columns: 2419 entries, Unnamed: 0 to 2417\n",
      "dtypes: float64(2418), int64(1)\n",
      "memory usage: 44.6 MB\n",
      "None\n"
     ]
    }
   ],
   "source": [
    "# Display the data type\n",
    "print(\"Biomass History Info:\")\n",
    "print(biomass_history_df.info())\n",
    "\n",
    "print(\"\\nDistance Matrix Info:\")\n",
    "print(distance_matrix_df.info())"
   ]
  },
  {
   "cell_type": "markdown",
   "id": "35b0b053",
   "metadata": {
    "papermill": {
     "duration": 0.006112,
     "end_time": "2023-07-23T20:24:31.524152",
     "exception": false,
     "start_time": "2023-07-23T20:24:31.518040",
     "status": "completed"
    },
    "tags": []
   },
   "source": [
    "# Step:2 Biomass Forecasting (Time Series Forecasting)"
   ]
  },
  {
   "cell_type": "code",
   "execution_count": 8,
   "id": "e47e8918",
   "metadata": {
    "execution": {
     "iopub.execute_input": "2023-07-23T20:24:31.539689Z",
     "iopub.status.busy": "2023-07-23T20:24:31.538688Z",
     "iopub.status.idle": "2023-07-23T20:25:18.103586Z",
     "shell.execute_reply": "2023-07-23T20:25:18.102185Z"
    },
    "papermill": {
     "duration": 46.576447,
     "end_time": "2023-07-23T20:25:18.106987",
     "exception": false,
     "start_time": "2023-07-23T20:24:31.530540",
     "status": "completed"
    },
    "tags": []
   },
   "outputs": [],
   "source": [
    "# Prepare the data for ARIMA model\n",
    "biomass_availability = biomass_history_df.iloc[:, 3:].values\n",
    "\n",
    "# Define the number of time periods (years) for forecasting (2010 to 2017)\n",
    "num_periods = biomass_availability.shape[1]\n",
    "\n",
    "# Initialize the forecast array for 2018\n",
    "biomass_forecast_2018 = np.zeros(biomass_availability.shape[0])\n",
    "\n",
    "# Loop through each harvesting site and forecast biomass availability for 2018\n",
    "for i in range(biomass_availability.shape[0]):\n",
    "    # Fit ARIMA model for each harvesting site\n",
    "    model = ARIMA(biomass_availability[i, :], order=(1, 1, 0))  # (p, d, q) order\n",
    "    model_fit = model.fit()\n",
    "    \n",
    "    # Forecast biomass availability for 2018 (one step ahead forecast)\n",
    "    forecast = model_fit.forecast(steps=1)\n",
    "    biomass_forecast_2018[i] = forecast"
   ]
  },
  {
   "cell_type": "code",
   "execution_count": 9,
   "id": "295baddb",
   "metadata": {
    "execution": {
     "iopub.execute_input": "2023-07-23T20:25:18.122048Z",
     "iopub.status.busy": "2023-07-23T20:25:18.121598Z",
     "iopub.status.idle": "2023-07-23T20:25:18.128314Z",
     "shell.execute_reply": "2023-07-23T20:25:18.127083Z"
    },
    "papermill": {
     "duration": 0.017662,
     "end_time": "2023-07-23T20:25:18.131197",
     "exception": false,
     "start_time": "2023-07-23T20:25:18.113535",
     "status": "completed"
    },
    "tags": []
   },
   "outputs": [
    {
     "name": "stdout",
     "output_type": "stream",
     "text": [
      "Forecasted Biomass for 2018:\n",
      "[6.73930404e+00 4.13465270e+01 6.56475406e+01 ... 4.28597348e-02\n",
      " 1.15729622e+00 1.98485730e-01]\n",
      "Length of Forecasted Biomass for 2018:\n",
      "2418\n"
     ]
    }
   ],
   "source": [
    "# Display the forecasted biomass for 2018 for all harvesting sites\n",
    "print(\"Forecasted Biomass for 2018:\")\n",
    "print(biomass_forecast_2018)\n",
    "print(\"Length of Forecasted Biomass for 2018:\")\n",
    "print(len(biomass_forecast_2018))"
   ]
  },
  {
   "cell_type": "code",
   "execution_count": 10,
   "id": "d255777a",
   "metadata": {
    "execution": {
     "iopub.execute_input": "2023-07-23T20:25:18.145339Z",
     "iopub.status.busy": "2023-07-23T20:25:18.144942Z",
     "iopub.status.idle": "2023-07-23T20:25:18.194613Z",
     "shell.execute_reply": "2023-07-23T20:25:18.193417Z"
    },
    "papermill": {
     "duration": 0.059684,
     "end_time": "2023-07-23T20:25:18.197047",
     "exception": false,
     "start_time": "2023-07-23T20:25:18.137363",
     "status": "completed"
    },
    "tags": []
   },
   "outputs": [
    {
     "name": "stdout",
     "output_type": "stream",
     "text": [
      "   Index  Latitude  Longitude       2010       2011       2012       2013  \\\n",
      "0      0  24.66818   71.33144   8.475744   8.868568   9.202181   6.023070   \n",
      "1      1  24.66818   71.41106  24.029778  28.551348  25.866415  21.634459   \n",
      "2      2  24.66818   71.49069  44.831635  66.111168  56.982258  53.003735   \n",
      "3      3  24.66818   71.57031  59.974419  80.821304  78.956543  63.160561   \n",
      "4      4  24.66818   71.64994  14.653370  19.327524  21.928144  17.899586   \n",
      "\n",
      "        2014       2015       2016        2017       2018  \n",
      "0  10.788374   6.647325   7.387925    5.180296   6.739304  \n",
      "1  34.419411  27.361908  40.431847   42.126945  41.346527  \n",
      "2  70.917908  42.517117  59.181629   73.203232  65.647541  \n",
      "3  93.513924  70.203171  74.536720  101.067352  86.576600  \n",
      "4  19.534035  19.165791  16.531315   26.086885  21.108108  \n"
     ]
    }
   ],
   "source": [
    "# Create a new DataFrame for the forecasted biomass data\n",
    "biomass_forecast_df = biomass_history_df.copy()\n",
    "\n",
    "# Add the forecasted biomass for 2018 to the new DataFrame\n",
    "biomass_forecast_df['2018'] = biomass_forecast_2018\n",
    "\n",
    "# Display the new DataFrame\n",
    "print(biomass_forecast_df.head())\n",
    "\n",
    "# Save the new DataFrame as a new CSV file\n",
    "biomass_forecast_df.to_csv('Biomass_Forecast_Data.csv', index=False)"
   ]
  },
  {
   "cell_type": "markdown",
   "id": "896e03ae",
   "metadata": {
    "papermill": {
     "duration": 0.005928,
     "end_time": "2023-07-23T20:25:18.209223",
     "exception": false,
     "start_time": "2023-07-23T20:25:18.203295",
     "status": "completed"
    },
    "tags": []
   },
   "source": [
    "# Rough"
   ]
  },
  {
   "cell_type": "code",
   "execution_count": 11,
   "id": "18b36337",
   "metadata": {
    "execution": {
     "iopub.execute_input": "2023-07-23T20:25:18.224282Z",
     "iopub.status.busy": "2023-07-23T20:25:18.223086Z",
     "iopub.status.idle": "2023-07-23T20:25:18.228770Z",
     "shell.execute_reply": "2023-07-23T20:25:18.227909Z"
    },
    "papermill": {
     "duration": 0.01571,
     "end_time": "2023-07-23T20:25:18.230956",
     "exception": false,
     "start_time": "2023-07-23T20:25:18.215246",
     "status": "completed"
    },
    "scrolled": true,
    "tags": []
   },
   "outputs": [],
   "source": [
    "# # Create an empty DataFrame to store the forecasted biomass data for all sites\n",
    "# biomass_forecast_data = pd.DataFrame()\n",
    "\n",
    "# # Create a time index for the forecasted years\n",
    "# forecast_time_index = pd.date_range(start=\"2018\", periods=2, freq=\"A\")\n",
    "\n",
    "# # Iterate through all harvesting sites\n",
    "# for harvesting_site_index in range(len(biomass_history_df)):\n",
    "#     # Extract the biomass data for the selected harvesting site\n",
    "#     biomass_timeseries = biomass_history_df.iloc[harvesting_site_index, 3:].values\n",
    "\n",
    "#     # Convert biomass_timeseries to numeric values\n",
    "#     biomass_timeseries = pd.to_numeric(biomass_timeseries, errors='coerce')\n",
    "\n",
    "#     # Create a time series object\n",
    "#     biomass_series = pd.Series(biomass_timeseries, index=time_index)\n",
    "\n",
    "#     # Fit the ARIMA model\n",
    "#     model = ARIMA(biomass_series, order=(3, 1, 1))\n",
    "#     model_fit = model.fit()\n",
    "\n",
    "#     # Forecast biomass availability for the years 2018 and 2019\n",
    "#     forecasted_values = model_fit.forecast(steps=2)\n",
    "\n",
    "#     # Create a DataFrame to store the forecasted biomass data for the current site\n",
    "#     site_forecast_data = pd.DataFrame({\n",
    "#         'harvesting_site_index': [harvesting_site_index] * 2,\n",
    "#         'year': forecast_time_index.year,\n",
    "#         'biomass_forecast': forecasted_values\n",
    "#     })\n",
    "\n",
    "#     # Append the site_forecast_data to the overall biomass_forecast_data\n",
    "#     biomass_forecast_data = biomass_forecast_data.append(site_forecast_data, ignore_index=True)\n"
   ]
  },
  {
   "cell_type": "code",
   "execution_count": 12,
   "id": "436b4ac3",
   "metadata": {
    "execution": {
     "iopub.execute_input": "2023-07-23T20:25:18.245475Z",
     "iopub.status.busy": "2023-07-23T20:25:18.244737Z",
     "iopub.status.idle": "2023-07-23T20:25:18.248577Z",
     "shell.execute_reply": "2023-07-23T20:25:18.247827Z"
    },
    "papermill": {
     "duration": 0.013945,
     "end_time": "2023-07-23T20:25:18.250969",
     "exception": false,
     "start_time": "2023-07-23T20:25:18.237024",
     "status": "completed"
    },
    "tags": []
   },
   "outputs": [],
   "source": [
    "# # Save the Biomass Forecast data to the Kaggle output directory\n",
    "# biomass_forecast_data.to_csv(\"Biomass_Forecast.csv\", index=False)"
   ]
  },
  {
   "cell_type": "code",
   "execution_count": 13,
   "id": "6ff3879b",
   "metadata": {
    "execution": {
     "iopub.execute_input": "2023-07-23T20:25:18.265606Z",
     "iopub.status.busy": "2023-07-23T20:25:18.265137Z",
     "iopub.status.idle": "2023-07-23T20:25:18.270040Z",
     "shell.execute_reply": "2023-07-23T20:25:18.269144Z"
    },
    "papermill": {
     "duration": 0.014898,
     "end_time": "2023-07-23T20:25:18.272201",
     "exception": false,
     "start_time": "2023-07-23T20:25:18.257303",
     "status": "completed"
    },
    "tags": []
   },
   "outputs": [],
   "source": [
    "# print(biomass_forecast_data)"
   ]
  },
  {
   "cell_type": "code",
   "execution_count": 14,
   "id": "b92e8623",
   "metadata": {
    "execution": {
     "iopub.execute_input": "2023-07-23T20:25:18.288176Z",
     "iopub.status.busy": "2023-07-23T20:25:18.287406Z",
     "iopub.status.idle": "2023-07-23T20:25:18.292723Z",
     "shell.execute_reply": "2023-07-23T20:25:18.291855Z"
    },
    "papermill": {
     "duration": 0.016339,
     "end_time": "2023-07-23T20:25:18.295083",
     "exception": false,
     "start_time": "2023-07-23T20:25:18.278744",
     "status": "completed"
    },
    "tags": []
   },
   "outputs": [],
   "source": [
    "# # Load the biomass forecast data for the years 2018 and 2019\n",
    "# biomass_forecast_data = pd.read_csv('/kaggle/input/biomassforecast/Biomass_Forecast (1).csv')\n",
    "\n",
    "# # Determine the number of clusters for K-means (e.g., 2 clusters for 2 potential locations)\n",
    "# num_clusters = 2\n",
    "\n",
    "# # List to store cluster centers for all sites\n",
    "# all_cluster_centers = []\n",
    "\n",
    "# # Loop over each harvesting site\n",
    "# for harvesting_site_index in range(2418):  # Assuming there are 2418 harvesting sites\n",
    "#     # Select the forecasted biomass availability for the current harvesting site\n",
    "#     forecasted_biomass = biomass_forecast_data.loc[biomass_forecast_data['harvesting_site_index'] == harvesting_site_index, 'biomass_forecast'].values\n",
    "    \n",
    "#     # Convert the forecasted biomass to numeric values\n",
    "#     forecasted_biomass = pd.to_numeric(forecasted_biomass, errors='coerce')\n",
    "    \n",
    "#     # Reshape the forecasted biomass data for K-means clustering\n",
    "#     X = forecasted_biomass.reshape(-1, 1)\n",
    "\n",
    "#     # Perform K-means clustering\n",
    "#     kmeans = KMeans(n_clusters=num_clusters, random_state=0)\n",
    "#     kmeans.fit(X)\n",
    "\n",
    "#     # Get the cluster centers (potential locations for Depots and Biorefineries) for the current site\n",
    "#     cluster_centers = kmeans.cluster_centers_\n",
    "    \n",
    "#     # Add the cluster centers to the list for all sites\n",
    "#     all_cluster_centers.append(cluster_centers)\n",
    "\n",
    "# # Convert the list to a numpy array for easier handling\n",
    "# all_cluster_centers = np.array(all_cluster_centers)\n",
    "\n",
    "# # Display the cluster centers for all sites\n",
    "# print(all_cluster_centers)\n"
   ]
  },
  {
   "cell_type": "code",
   "execution_count": 15,
   "id": "e33ce472",
   "metadata": {
    "execution": {
     "iopub.execute_input": "2023-07-23T20:25:18.310526Z",
     "iopub.status.busy": "2023-07-23T20:25:18.309430Z",
     "iopub.status.idle": "2023-07-23T20:25:18.314595Z",
     "shell.execute_reply": "2023-07-23T20:25:18.313718Z"
    },
    "papermill": {
     "duration": 0.015507,
     "end_time": "2023-07-23T20:25:18.316840",
     "exception": false,
     "start_time": "2023-07-23T20:25:18.301333",
     "status": "completed"
    },
    "tags": []
   },
   "outputs": [],
   "source": [
    "# # Load Biomass_History.csv for forecasted biomass values\n",
    "# biomass_forecast_df = pd.read_csv('/kaggle/input/biomassforecast/Biomass_Forecast (1).csv')\n",
    "\n",
    "# # Load Distance_Matrix.csv for distance data\n",
    "# distance_matrix_df = pd.read_csv('/kaggle/input/biomasshistory/dataset/Distance_Matrix.csv')\n"
   ]
  },
  {
   "cell_type": "code",
   "execution_count": 16,
   "id": "af145d04",
   "metadata": {
    "execution": {
     "iopub.execute_input": "2023-07-23T20:25:18.331932Z",
     "iopub.status.busy": "2023-07-23T20:25:18.331131Z",
     "iopub.status.idle": "2023-07-23T20:25:18.335606Z",
     "shell.execute_reply": "2023-07-23T20:25:18.334739Z"
    },
    "papermill": {
     "duration": 0.014825,
     "end_time": "2023-07-23T20:25:18.337863",
     "exception": false,
     "start_time": "2023-07-23T20:25:18.323038",
     "status": "completed"
    },
    "tags": []
   },
   "outputs": [],
   "source": [
    "# # Constants\n",
    "# a = 0.001\n",
    "# b = 1\n",
    "# c = 1\n",
    "\n",
    "# # Maximum yearly processing capacity of depot and refinery\n",
    "# max_capacity_depot = 20000\n",
    "# max_capacity_refinery = 100000\n",
    "\n",
    "# # Number of depots and refineries (you can adjust these based on the constraints)\n",
    "# num_depots = 5\n",
    "# num_refineries = 3"
   ]
  },
  {
   "cell_type": "code",
   "execution_count": 17,
   "id": "89fb530a",
   "metadata": {
    "execution": {
     "iopub.execute_input": "2023-07-23T20:25:18.353087Z",
     "iopub.status.busy": "2023-07-23T20:25:18.352616Z",
     "iopub.status.idle": "2023-07-23T20:25:18.358618Z",
     "shell.execute_reply": "2023-07-23T20:25:18.357448Z"
    },
    "papermill": {
     "duration": 0.016795,
     "end_time": "2023-07-23T20:25:18.361178",
     "exception": false,
     "start_time": "2023-07-23T20:25:18.344383",
     "status": "completed"
    },
    "tags": []
   },
   "outputs": [],
   "source": [
    "# def biomass_lp_forecast(biomass_forecast, distance_matrix):\n",
    "#     # Extract relevant data from dataframes\n",
    "#     num_harvesting_sites = len(biomass_forecast)\n",
    "#     num_years = len(biomass_forecast.columns) - 1\n",
    "\n",
    "#     # Convert DataFrame to numpy array for LP optimization\n",
    "#     biomass_forecast_values = biomass_forecast.drop(columns=['Index', 'Latitude', 'Longitude']).values\n",
    "\n",
    "#     # Define LP variables and constraints\n",
    "#     biomass_transport_bounds = [(0, None) for _ in range(num_harvesting_sites * num_depots)]\n",
    "#     pellet_transport_bounds = [(0, None) for _ in range(num_depots * num_refineries)]\n",
    "    \n",
    "#     # Constraints lists\n",
    "#     biomass_constraints = []\n",
    "#     pellet_constraints = []\n",
    "\n",
    "#     # Biomass demand-supply constraints\n",
    "#     for i in range(num_harvesting_sites):\n",
    "#         biomass_constraints.append({'type': 'ineq', 'fun': lambda x, i=i: biomass_forecast_values[i, 1:].sum() - x[i*num_years:(i+1)*num_years].sum()})\n",
    "\n",
    "#     # Depot processing capacity constraints\n",
    "#     for j in range(num_depots):\n",
    "#         biomass_constraints.append({'type': 'ineq', 'fun': lambda x, j=j: max_capacity_depot - x[j*num_years*num_harvesting_sites:(j+1)*num_years*num_harvesting_sites].sum()})\n",
    "\n",
    "#     # Refinery processing capacity constraints\n",
    "#     for k in range(num_refineries):\n",
    "#         pellet_constraints.append({'type': 'ineq', 'fun': lambda x, k=k: max_capacity_refinery - x[k*num_years*num_depots:(k+1)*num_years*num_depots].sum()})\n",
    "\n",
    "#     # Solve the LP optimization problem\n",
    "#     c = np.hstack([distance_matrix.flatten() for _ in range(num_years)])\n",
    "#     res = linprog(c, A_ub=biomass_constraints + pellet_constraints, bounds=biomass_transport_bounds + pellet_transport_bounds, method='highs')\n",
    "\n",
    "#     return res.x.reshape(num_years, num_harvesting_sites, num_depots), res.x.reshape(num_years, num_depots, num_refineries)\n"
   ]
  },
  {
   "cell_type": "code",
   "execution_count": 18,
   "id": "11cd9f42",
   "metadata": {
    "execution": {
     "iopub.execute_input": "2023-07-23T20:25:18.376170Z",
     "iopub.status.busy": "2023-07-23T20:25:18.375679Z",
     "iopub.status.idle": "2023-07-23T20:25:18.380512Z",
     "shell.execute_reply": "2023-07-23T20:25:18.379459Z"
    },
    "papermill": {
     "duration": 0.015158,
     "end_time": "2023-07-23T20:25:18.382845",
     "exception": false,
     "start_time": "2023-07-23T20:25:18.367687",
     "status": "completed"
    },
    "tags": []
   },
   "outputs": [],
   "source": [
    "# # Call the LP formulation function with the forecasted values and distance matrix\n",
    "# biomass_transport, pellet_transport = biomass_lp_forecast(biomass_forecast_df, distance_matrix_df)"
   ]
  }
 ],
 "metadata": {
  "kernelspec": {
   "display_name": "Python 3",
   "language": "python",
   "name": "python3"
  },
  "language_info": {
   "codemirror_mode": {
    "name": "ipython",
    "version": 3
   },
   "file_extension": ".py",
   "mimetype": "text/x-python",
   "name": "python",
   "nbconvert_exporter": "python",
   "pygments_lexer": "ipython3",
   "version": "3.10.12"
  },
  "papermill": {
   "default_parameters": {},
   "duration": 75.022951,
   "end_time": "2023-07-23T20:25:19.415316",
   "environment_variables": {},
   "exception": null,
   "input_path": "__notebook__.ipynb",
   "output_path": "__notebook__.ipynb",
   "parameters": {},
   "start_time": "2023-07-23T20:24:04.392365",
   "version": "2.4.0"
  }
 },
 "nbformat": 4,
 "nbformat_minor": 5
}
